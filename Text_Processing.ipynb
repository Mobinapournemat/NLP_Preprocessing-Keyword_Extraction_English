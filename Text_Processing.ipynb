{
  "cells": [
    {
      "cell_type": "markdown",
      "source": [
        "# Mobina Pournemat - 97105833"
      ],
      "metadata": {
        "id": "VkJ_lNBCILmm"
      }
    },
    {
      "cell_type": "markdown",
      "source": [
        "## Import Libraries"
      ],
      "metadata": {
        "id": "zpx57mR-Vs1u"
      }
    },
    {
      "cell_type": "code",
      "source": [
        "import os\n",
        "import random \n",
        "import tqdm\n",
        "import nltk, re\n",
        "from nltk.tokenize import sent_tokenize\n",
        "from nltk import word_tokenize\n",
        "import string\n",
        "from nltk.corpus import stopwords\n",
        "from nltk.probability import FreqDist\n",
        "import numpy as np\n",
        "import itertools\n",
        "from nltk import FreqDist\n",
        "import pandas as pd\n",
        "from nltk.stem.porter import PorterStemmer\n",
        "from nltk.stem import WordNetLemmatizer\n",
        "from nltk import word_tokenize, pos_tag"
      ],
      "metadata": {
        "id": "vt_j8s5SO_2_"
      },
      "execution_count": 56,
      "outputs": []
    },
    {
      "cell_type": "code",
      "source": [
        "nltk.download('punkt')\n",
        "nltk.download('stopwords')\n",
        "nltk.download('wordnet')"
      ],
      "metadata": {
        "id": "i0bbZgg3gh1J",
        "colab": {
          "base_uri": "https://localhost:8080/"
        },
        "outputId": "96375fed-36e1-43bb-c29b-a029748d4f64"
      },
      "execution_count": 53,
      "outputs": [
        {
          "output_type": "stream",
          "name": "stdout",
          "text": [
            "[nltk_data] Downloading package punkt to /root/nltk_data...\n",
            "[nltk_data]   Package punkt is already up-to-date!\n",
            "[nltk_data] Downloading package stopwords to /root/nltk_data...\n",
            "[nltk_data]   Package stopwords is already up-to-date!\n",
            "[nltk_data] Downloading package wordnet to /root/nltk_data...\n",
            "[nltk_data]   Unzipping corpora/wordnet.zip.\n"
          ]
        },
        {
          "output_type": "execute_result",
          "data": {
            "text/plain": [
              "True"
            ]
          },
          "metadata": {},
          "execution_count": 53
        }
      ]
    },
    {
      "cell_type": "markdown",
      "source": [
        "## Data Loading\n",
        "This data which extracted from [The 20 Newsgroups data set](http://qwone.com/~jason/20Newsgroups/) is a collection of approximately 20,000 newsgroup documents, partitioned (nearly) evenly across 20 different newsgroups. The 20 newsgroups collection has become a popular data set for experiments in text applications of machine learning techniques, such as text classification and text clustering.  \n",
        "for this notebook, I chose the space category which contains 593 text files. "
      ],
      "metadata": {
        "id": "8yiOkQJcVmDq"
      }
    },
    {
      "cell_type": "code",
      "execution_count": 13,
      "metadata": {
        "id": "7h6tOUCbKPXH",
        "colab": {
          "base_uri": "https://localhost:8080/"
        },
        "outputId": "22ad038c-4f6a-4db8-9f44-c675113cc193"
      },
      "outputs": [
        {
          "output_type": "execute_result",
          "data": {
            "text/plain": [
              "593"
            ]
          },
          "metadata": {},
          "execution_count": 13
        }
      ],
      "source": [
        "content = []\n",
        "path = './sci.space'\n",
        "for file in os.listdir(path):\n",
        "    filepath = os.path.join(path, file)\n",
        "    with open(filepath, 'r') as f:\n",
        "        content.append(f.read())\n",
        "\n",
        "print(len(content))"
      ]
    },
    {
      "cell_type": "markdown",
      "source": [
        "## Text sample"
      ],
      "metadata": {
        "id": "1dv6YRfPVh_O"
      }
    },
    {
      "cell_type": "code",
      "source": [
        "for x in random.sample(content, 3):\n",
        "    print(''.join(x))\n",
        "    print()\n",
        "    print(\"=\"*80)\n",
        "    print(\"=\"*80)\n",
        "    print()"
      ],
      "metadata": {
        "id": "pBY8T27sSm6U",
        "colab": {
          "base_uri": "https://localhost:8080/"
        },
        "outputId": "c255d8ca-9010-46d8-9263-7cb12075acba"
      },
      "execution_count": 318,
      "outputs": [
        {
          "output_type": "stream",
          "name": "stdout",
          "text": [
            "From: dnadams@nyx.cs.du.edu (Dean Adams)\n",
            "Subject: Ariane v.56 Mission Data\n",
            "Organization: University of Denver, Dept. of Math & Comp. Sci.\n",
            "Lines: 114\n",
            "\n",
            "\n",
            "\n",
            "ARIANESPACE FLIGHT 56\n",
            "\n",
            "(Flight V.56 was originally intended to carry the Hughes HS-601 series \n",
            "Galaxy IV satellite, but the payload was withdrawn just prior to flight.)\n",
            "\n",
            "The 56th Ariane launch is now scheduled to place the ASTRA 1C and ARSENE \n",
            "satellites into an improved geostationary transfer orbit (GTO), with \n",
            "inclination reduced to 5 degrees and apogee altitude increased by 150 km.\n",
            "This will be the 28th launch of an Ariane 4 and the first in the 42L \n",
            "configuration, with 2 liquid strap-on boosters (PAL).  It will be launched\n",
            "from the newly refurbished Ariane launch complex ELA 2, in Kourou - French \n",
            "Guiana.\n",
            "\n",
            "The launch vehicle performance requirement for this mission is 3,147 kg\n",
            "of which 2,944 kg represents the satellite mass.  The total vehicle mass\n",
            "at liftoff is 361,778 kg.\n",
            "\n",
            "\n",
            "Required Orbit Characteristics:\n",
            "  Perigee Altitude ..... 200 km\n",
            "  Apogee Altitude ...... 36,160 km at injection \n",
            "  Inclination ..........   5 degrees\n",
            "\n",
            "\n",
            "The Ariane 42L lift-off for Flight 56 is scheduled on Thursday,\n",
            "April 29, 1993, as soon as possible within the following launch \n",
            "window:\n",
            "\n",
            "     Kourou Time        GMT (04/30/93)      Washington, DC\n",
            "     21:52 - 22:50      00:52 - 01:50       20:52 - 21:50\n",
            "\n",
            "\n",
            "LAUNCH VEHICLE:\n",
            "\n",
            "Ariane 42L.  This is a three-stage liquid fueled launcher with two liquid \n",
            "fueled strap-on boosters.  The first stage (L220) is built by Aerospatiale,\n",
            "and is powered by 4 liquid fueled Viking V engines.  The second stage (L33)\n",
            "is built by MBB Erno and is powered by a single Viking IV engine.  Both the\n",
            "Viking IV and V engines are manufactured by SEP.  The first and second stages\n",
            "use a biliquid UH25/N2O4 fuel. The third stage (H10) is built by Aerospatiale,\n",
            "and is powered by a cryogenic H2/O2 fueled HM-7B engine built by SEP. The two\n",
            "strap-on boosters (PAL) are each powered by a Viking VI engine, also built \n",
            "by SEP, which use the same biliquid fuel as the first and second stages.  \n",
            "The fully assembled launch vehicle stands 56 meters high on the pad.  \n",
            "It uses the Type 01 Ariane Short payload fairing.\n",
            "\n",
            "\n",
            "Flight Profile:\n",
            "\n",
            " +02:21  Liquid strap-on booster jettison\n",
            " +03:11  First stage separation\n",
            " +03:18  Second stage ignition\n",
            " +04:10  Fairing jettison\n",
            " +05:21  Second stage separation\n",
            " +05:26  Third stage ignition\n",
            " +17:30  Third stage shutdown / orbit injection\n",
            " +19:56  ASTRA 1C separation\n",
            " +22:36  Cyclade adapter separation\n",
            " +24:26  ARSENE separation\n",
            " +28:47  End of Ariane mission 56\n",
            "\n",
            "\n",
            "PAYLOADS:\n",
            "\n",
            "ASTRA 1C is the third spacecraft in the fleet of \"Societe Europeenne\n",
            "des Satellites\" to broadcast direct TV to homes all over Europe.\n",
            "Built by Hughes, it will be the second HS-601 launched by Ariane.\n",
            "\n",
            "  Total mass at lift-off .... 2,790 kg\n",
            "  Mass at GEO insertion ..... 1,700 kg\n",
            "  Dry mass .................. 1,180 kg     \n",
            "  On-board power ............ 3,300 W (end of life)\n",
            "  Nominal lifetime .......... 15 years     \n",
            "  Span of solar panels ...... 21 m\n",
            "  On-Orbit position ......... 19.2 degrees east, over Africa.\n",
            "\n",
            " Transmission capacity:  \n",
            "   34 channels in Ku-band, via 18 transponders.\n",
            "\n",
            " In-flight operations:\n",
            "   Solar array deployment ............ about 6 days after lift-off\n",
            "   First of 3 apogee motor firings ... about 40 hours after lift-off \n",
            "                                       at 4th apogee\n",
            "\n",
            "\n",
            "ARSENE is the first spacecraft built by the European Space Industry\n",
            "for the benefit of the world amateur radio community.  \n",
            "\n",
            "  Total mass at lift-off .... 154 kg\n",
            "  Mass at GEO insertion .....  98 kg\n",
            "  Dry mass ..................  97 kg     \n",
            "  On-board power ............ 42 W (end of life)\n",
            "  Nominal lifetime .......... 3 years     \n",
            "  Spacecraft dimensions ..... 1.1m x .96m\n",
            "  Orbital parameters ........ 20000/36000 km, 0 inclination, period 17:30.\n",
            "\n",
            " Transmission capacity:  \n",
            "   S-band:  1 transponder at 2.446 ghz\n",
            "   VHF/UHF: 145/435 mhz \n",
            "\n",
            "\n",
            "LAUNCH COVERAGE:\n",
            "\n",
            "All Ariane missions are broadcast live via satellite from Kourou. \n",
            "Coverage begins at 30 minutes before launch and continues until \n",
            "all payloads have been deployed.  This mission will likely be carried\n",
            "in the US on Galaxy 6, however it could be Galaxy 7 or another satellite.\n",
            "(What is the European satellite normally used for Ariane coverage?)\n",
            " \n",
            "\n",
            "-{ Dean Adams }-\n",
            "\n",
            "\n",
            "\n",
            "================================================================================\n",
            "================================================================================\n",
            "\n",
            "From: baalke@kelvin.jpl.nasa.gov (Ron Baalke)\n",
            "Subject: JPL's VLBI Project Meets with International Space Agencies\n",
            "Organization: Jet Propulsion Laboratory\n",
            "Lines: 112\n",
            "Distribution: world\n",
            "NNTP-Posting-Host: kelvin.jpl.nasa.gov\n",
            "Keywords: VLBI, JPL\n",
            "News-Software: VAX/VMS VNEWS 1.41    \n",
            "\n",
            "From the \"JPL Universe\"\n",
            "April 23, 1993\n",
            "\n",
            "VLBI project meets with international space agencies\n",
            "\n",
            "By Ed McNevin\n",
            "     Members of JPL's Space Very Long Baseline Interferometry\n",
            "(VLBI) project team recently concluded a week-long series of\n",
            "meetings with officials from Russia and Japan.\n",
            "     The meetings were part of \"Space VLBI Week\" held at JPL in\n",
            "early March and were intended to maintain cooperation between\n",
            "international space agencies participating in the development of\n",
            "the U.S. Space VLBI Project, a recently approved JPL flight\n",
            "project set for launch in 1995.\n",
            "     U.S. Space VLBI will utilize two Earth-orbiting spacecraft\n",
            "-- the Japanese VSOP (VLBI Space Observing Program) satellite\n",
            "with its 8-meter radio telescope, and a Russian RADIOASTRON\n",
            "10-meter satellite. Both spacecraft will team up with\n",
            "ground-based radio telescopes located around the world to create\n",
            "a radio telescope network that astronomers hope will expand radio\n",
            "telescope observing power by a factor of 10.\n",
            "     Japan's VSOP satellite will use a limited six-hour orbit to\n",
            "conduct imaging science, while the Russian RADIOASTRON spacecraft\n",
            "will exploit a larger, 28-hour Earth orbit to conduct exploratory\n",
            "radio astronomy. Each satellite will point at a source target for\n",
            "roughly 24 hours, while approximately 20 ground-based radio\n",
            "telescopes will simultaneously point at the same source object\n",
            "while within view on Earth.\n",
            "     According to Dr. Joel Smith, JPL's project manager for the\n",
            "U.S. Space VLBI, meetings like those held at JPL will permit\n",
            "Japan and Russia, who have little previous experience in radio\n",
            "interferometry, to establish working relationships with the radio\n",
            "astronomy communities that will be vital during the complex\n",
            "observations required by the Space VLBI project.\n",
            "     \"One of our main activities is developing the methodology\n",
            "for international coordination, because the two spacecraft\n",
            "simultaneously rely on the corresponding tracking stations while\n",
            "using the ground-based radio telescopes to observe the same\n",
            "celestial objects,\" said Smith.\n",
            "     Three new tracking antennas are being built at DSN\n",
            "facilities and other three other tracking facilities located in\n",
            "Japan, Russia and Green Bank, W.Va. This global network of\n",
            "ground-based radio telescopes will use precision clocks and\n",
            "high-speed recorders to collect observation data and forward the\n",
            "information to a correlator located at the National Radio\n",
            "Astronomy Observatory in Socorro, N.M. The correlator will\n",
            "combine and process data, then make it available to mission\n",
            "investigators in Moscow, Tokyo, and JPL via electronic mail.\n",
            "     Smith is optimistic that the massive radio telescope created\n",
            "by the Space VLBI network will provide radio astronomers with\n",
            "better resolution than has ever been achieved before by\n",
            "ground-based radio telescopes, allowing astronomers to take a\n",
            "closer look at distant objects in space.\n",
            "     \"There is a long history of radio astronomy using\n",
            "ground-based telescopes,\" said Smith. \"What we intend to do is to\n",
            "extend radio astronomy into Earth orbit. Our goal is to look\n",
            "deeper into the cores of galactic nuclei, quasars and other\n",
            "active radio sources to understand what drives those things we\n",
            "have seen so far with radio astronomy.\"\n",
            "     Smith noted that if one examines \"the active galactic\n",
            "nuclei, you'll find jets appearing to spew at speeds greater than\n",
            "light, and at energy levels that are millions of times greater\n",
            "than you would expect.\"\n",
            "     He said some astronomers believe that black holes may be\n",
            "located in the cores of these galaxies, and that they may fuel\n",
            "the jets. Smith hopes that \"by using Space VLBI to look further\n",
            "into the cores, this theory may be supported or disproved.\"\n",
            "     Russian space-flight hardware, including transponders and\n",
            "transmitters, are now being tested in the United States, and\n",
            "Japanese hardware is scheduled to arrive for testing later this\n",
            "year. Analysis of this hardware will permit U.S. scientists and\n",
            "engineers to understand how to modify the high-speed VLBA\n",
            "Correlator operating at the NRAO in order to accommodate the odd\n",
            "data patterns that will originate from the more than 20\n",
            "ground-based radio telescopes involved in Space VLBI.\n",
            "     Smith is particularly pleased that meetings with the\n",
            "Japanese and Russian space agency officials -- like those held at\n",
            "JPL in March -- have proceeded smoothly. Yet he knows that the\n",
            "political uncertainty in Russia could jeopardize that country's\n",
            "participation in the project.\n",
            "     \"Nothing is ever smooth,\" he said, \"but the Russians have\n",
            "been incredibly open with us. We always anticipated some\n",
            "likelihood that we will not succeed because of political factors\n",
            "beyond our control, yet there tends to be a way of keeping these\n",
            "things going, because scientists on both sides are trying hard,\n",
            "and people recognize the value of cooperation at this level.\"\n",
            "     Smith points out that the Japanese space agency has more at\n",
            "stake than just fulfilling an international commitment to a\n",
            "science mission.\n",
            "     \"The Japanese have been extremely cooperative, since\n",
            "international cooperation is essential to their science mission,\"\n",
            "he said.\n",
            "     But Smith also noted that Japanese space agency officials\n",
            "look at the U.S. Space VLBI mission as an opportunity to showcase\n",
            "the technology involved with VSOP spacecraft, and their highly\n",
            "regarded Mach V launch vehicle.\n",
            "     Yet regardless of the risks involved in undertaking such an\n",
            "ambitious project, JPL's Smith is satisfied that planning for the\n",
            "Space VLBI Project is beyond the significant financial and\n",
            "political hurdles that otherwise might threaten the project.\n",
            "     \"Fortunately, we have the virtue of having two partners, and\n",
            "if either falls out, we would still have something with the\n",
            "other. By themselves, both spacecraft are independent,\n",
            "scientifically exciting missions.\"\n",
            "                           ###\n",
            "     ___    _____     ___\n",
            "    /_ /|  /____/ \\  /_ /|     Ron Baalke         | baalke@kelvin.jpl.nasa.gov\n",
            "    | | | |  __ \\ /| | | |     Jet Propulsion Lab |\n",
            " ___| | | | |__) |/  | | |__   M/S 525-3684 Telos | The aweto from New Zealand\n",
            "/___| | | |  ___/    | |/__ /| Pasadena, CA 91109 | is part caterpillar and\n",
            "|_____|/  |_|/       |_____|/                     | part vegetable.\n",
            "\n",
            "\n",
            "\n",
            "================================================================================\n",
            "================================================================================\n",
            "\n",
            "From: eder@hsvaic.boeing.com (Dani Eder)\n",
            "Subject: Re: NASP\n",
            "Distribution: sci\n",
            "Organization: Boeing AI Center, Huntsville, AL\n",
            "Lines: 39\n",
            "\n",
            "I have before me a pertinent report from the United States General\n",
            "Accounting Office:\n",
            "\n",
            "National Aero-Space Plane: Restructuring Future Research and Development\n",
            "Efforts\n",
            "December 1992\n",
            "Report number GAO/NSIAD-93-71\n",
            "\n",
            "In the back it lists the following related reports:\n",
            "\n",
            "NASP: Key Issues Facing the Program (31 Mar 92) GAO/T-NSIAD-92-26\n",
            "\n",
            "Aerospace Plane Technology: R&D Efforts in Japan and Australia\n",
            "(4 Oct 91) GAO/NSIAD-92-5\n",
            "\n",
            "Aerospace Plane Technology: R&D Efforts in Europe (25 July 91)\n",
            "GAO/NSIAD-91-194\n",
            "\n",
            "Aerospace Technology: Technical Data and Information on Foreign\n",
            "Test Facilities (22 Jun 90) GAO/NSIAD-90-71FS\n",
            "\n",
            "Investment in Foreign Aerospace Vehicle Research and Technological\n",
            "Development Efforts (2 Aug 89) GAO/T-NSIAD-89-43\n",
            "\n",
            "NASP: A Technology Development and Demonstration Program to Build\n",
            "the X-30 (27 Apr 88) GAO/NSIAD-88-122\n",
            "\n",
            "\n",
            "On the inside back cover, under \"Ordering Information\" it says\n",
            "\n",
            "\"The first copy of each GAO report is free.  . . .  Orders\n",
            "may also be placed by calling (202)275-6241\n",
            "\"\n",
            "\n",
            "Dani\n",
            "\n",
            "-- \n",
            "Dani Eder/Meridian Investment Company/(205)464-2697(w)/232-7467(h)/\n",
            "Rt.1, Box 188-2, Athens AL 35611/Location: 34deg 37' N 86deg 43' W +100m alt.\n",
            "\n",
            "\n",
            "================================================================================\n",
            "================================================================================\n",
            "\n"
          ]
        }
      ]
    },
    {
      "cell_type": "markdown",
      "source": [
        "## Data Cleaning & Normalization"
      ],
      "metadata": {
        "id": "UN4PVEjcn15J"
      }
    },
    {
      "cell_type": "markdown",
      "source": [
        "As you can see, the data is very dirty so we need to utilize some  normalization methods to make it usable for different tasks.  \n",
        "But there is a special thing about this dataset which is containing a lot of email addresses. I'm gonna extract those emails and remove them from sentences."
      ],
      "metadata": {
        "id": "gL_jB-HMCjYY"
      }
    },
    {
      "cell_type": "code",
      "source": [
        "def find_emails(text):\n",
        "  emails = re.findall(r\"[A-Za-z0-9_%+-.]+\"\n",
        "                 r\"@[A-Za-z0-9.-]+\"\n",
        "                 r\"\\.[A-Za-z]{2,5}\",text)\n",
        "  words = text.split()\n",
        "  sent = []\n",
        "  for word in words:\n",
        "    if word in emails:\n",
        "      continue\n",
        "    check = 0\n",
        "    for e in emails:\n",
        "      if e in word:\n",
        "        check = 1\n",
        "        break\n",
        "    if check == 0:\n",
        "      sent.append(word)\n",
        "      \n",
        "  return ' '.join(sent), emails"
      ],
      "metadata": {
        "id": "R0WlGpbRNJCY"
      },
      "execution_count": 17,
      "outputs": []
    },
    {
      "cell_type": "code",
      "source": [
        "def remove_whitespace(text):\n",
        "    return  \" \".join(text.split())"
      ],
      "metadata": {
        "id": "nnBVmUHchrSS"
      },
      "execution_count": 19,
      "outputs": []
    },
    {
      "cell_type": "code",
      "source": [
        "def get_lowercase(text):\n",
        "  words = word_tokenize(text)\n",
        "  lowered = [word.lower() for word in words if len(word)>2]\n",
        "  return ' '.join(lowered)"
      ],
      "metadata": {
        "id": "KEcagt3tmRPH"
      },
      "execution_count": 20,
      "outputs": []
    },
    {
      "cell_type": "code",
      "source": [
        "def remove_punctuation(text):\n",
        "  result = [char for char in text if char not in string.punctuation]\n",
        "  return ''.join(result)"
      ],
      "metadata": {
        "id": "7Ypn9cxUi6Fh"
      },
      "execution_count": 21,
      "outputs": []
    },
    {
      "cell_type": "code",
      "source": [
        "def remove_stopwords(text):\n",
        "  stop_words = stopwords.words('english')\n",
        "  words = word_tokenize(text)\n",
        "  filtered = [word for word in words if (word.lower() not in stop_words)]\n",
        "  return ' '.join(filtered)"
      ],
      "metadata": {
        "id": "Tnnr1PiUmgOo"
      },
      "execution_count": 22,
      "outputs": []
    },
    {
      "cell_type": "code",
      "source": [
        "sentences = []\n",
        "for c in content:\n",
        "  sent = sent_tokenize(c)\n",
        "  sentences += sent\n",
        "\n",
        "print(len(sentences))"
      ],
      "metadata": {
        "colab": {
          "base_uri": "https://localhost:8080/"
        },
        "id": "OgQlicH6n76P",
        "outputId": "855c06ff-a681-446d-d958-2c83d7367f17"
      },
      "execution_count": 172,
      "outputs": [
        {
          "output_type": "stream",
          "name": "stdout",
          "text": [
            "9366\n"
          ]
        }
      ]
    },
    {
      "cell_type": "code",
      "source": [
        "normalized_sents = []\n",
        "emails = []\n",
        "for sent in sentences:\n",
        "  s = remove_whitespace(sent)\n",
        "  s, ems = find_emails(s)\n",
        "  emails += ems\n",
        "  s = remove_punctuation(s)\n",
        "  s = remove_stopwords(s)\n",
        "  s = get_lowercase(s)\n",
        "  normalized_sents.append(s)\n",
        "\n",
        "print(len(normalized_sents))"
      ],
      "metadata": {
        "colab": {
          "base_uri": "https://localhost:8080/"
        },
        "id": "XX_jST75s9Nv",
        "outputId": "51b88c99-af96-4fae-af5d-71cf6546cb75"
      },
      "execution_count": 196,
      "outputs": [
        {
          "output_type": "stream",
          "name": "stdout",
          "text": [
            "9366\n"
          ]
        }
      ]
    },
    {
      "cell_type": "code",
      "source": [
        "s = sentences[0]\n",
        "print(s)\n",
        "s = remove_whitespace(s)\n",
        "print(s)\n",
        "s, _ = find_emails(s)\n",
        "print(s)\n",
        "s = remove_punctuation(s)\n",
        "print(s)\n",
        "s = remove_stopwords(s)\n",
        "print(s)\n",
        "s = get_lowercase(s)\n",
        "print(s)"
      ],
      "metadata": {
        "colab": {
          "base_uri": "https://localhost:8080/"
        },
        "id": "Z7Lvz32OxCTg",
        "outputId": "4ee0b672-ed60-4e52-fc9f-8895f6eb18d6"
      },
      "execution_count": 25,
      "outputs": [
        {
          "output_type": "stream",
          "name": "stdout",
          "text": [
            "From: matthew@phantom.gatech.edu (Matthew DeLuca)\n",
            "Subject: Re: nuclear waste\n",
            "Organization: The Dorsai Grey Captains\n",
            "Lines: 15\n",
            "NNTP-Posting-Host: oit.gatech.edu\n",
            "\n",
            "In article <844@rins.ryukoku.ac.jp> will@rins.ryukoku.ac.jp (William Reiken) writes:\n",
            "\n",
            ">\tOk, so how about the creation of oil producing bacteria?\n",
            "From: matthew@phantom.gatech.edu (Matthew DeLuca) Subject: Re: nuclear waste Organization: The Dorsai Grey Captains Lines: 15 NNTP-Posting-Host: oit.gatech.edu In article <844@rins.ryukoku.ac.jp> will@rins.ryukoku.ac.jp (William Reiken) writes: > Ok, so how about the creation of oil producing bacteria?\n",
            "From: (Matthew DeLuca) Subject: Re: nuclear waste Organization: The Dorsai Grey Captains Lines: 15 NNTP-Posting-Host: oit.gatech.edu In article (William Reiken) writes: > Ok, so how about the creation of oil producing bacteria?\n",
            "From Matthew DeLuca Subject Re nuclear waste Organization The Dorsai Grey Captains Lines 15 NNTPPostingHost oitgatechedu In article William Reiken writes  Ok so how about the creation of oil producing bacteria\n",
            "Matthew DeLuca Subject nuclear waste Organization Dorsai Grey Captains Lines 15 NNTPPostingHost oitgatechedu article William Reiken writes Ok creation oil producing bacteria\n",
            "matthew deluca subject nuclear waste organization dorsai grey captains lines nntppostinghost oitgatechedu article william reiken writes creation oil producing bacteria\n"
          ]
        }
      ]
    },
    {
      "cell_type": "code",
      "source": [
        "splited_sents = [sent.split() for sent in normalized_sents]"
      ],
      "metadata": {
        "id": "DRjsTW6dicbR"
      },
      "execution_count": 27,
      "outputs": []
    },
    {
      "cell_type": "code",
      "source": [
        "mp_freqdist = FreqDist(itertools.chain(*splited_sents)) \n",
        "top20words = mp_freqdist.most_common(30)\n",
        "print ('%-16s' % 'word', '%-16s' % 'Frequency','%-16s' %  '% of the total')\n",
        "for topword in top20words:\n",
        "    percent=(topword[1]/len(splited_sents))*100\n",
        "    print ('%-16s' % topword[0], '%-16s' % topword[1],'%-16s' %  percent)"
      ],
      "metadata": {
        "colab": {
          "base_uri": "https://localhost:8080/"
        },
        "id": "Gykdr0gx_lFD",
        "outputId": "6a3e9ce3-9afa-49f6-f2e7-37a4195626af"
      },
      "execution_count": 29,
      "outputs": [
        {
          "output_type": "stream",
          "name": "stdout",
          "text": [
            "word             Frequency        % of the total  \n",
            "space            1194             12.748238308776424\n",
            "subject          633              6.758488148622678\n",
            "organization     613              6.5449498184924195\n",
            "lines            613              6.5449498184924195\n",
            "would            553              5.904334828101645\n",
            "writes           452              4.82596626094384\n",
            "one              399              4.260089686098654\n",
            "article          385              4.110612855007474\n",
            "nasa             382              4.078582105487935\n",
            "launch           327              3.4913516976297245\n",
            "like             324              3.459320948110186\n",
            "also             285              3.042921204356182\n",
            "nntppostinghost  282              3.0108904548366433\n",
            "orbit            275              2.936152039291053\n",
            "first            273              2.914798206278027\n",
            "moon             271              2.8934443732650013\n",
            "university       269              2.872090540251975\n",
            "get              250              2.6692291266282298\n",
            "data             246              2.626521460602178\n",
            "dont             242              2.5838137945761264\n",
            "time             233              2.48772154601751\n",
            "lunar            224              2.391629297458894\n",
            "could            224              2.391629297458894\n",
            "earth            222              2.370275464445868\n",
            "new              221              2.3595985479393553\n",
            "shuttle          217              2.3168908819133036\n",
            "may              215              2.2955370489002775\n",
            "system           213              2.274183215887252\n",
            "think            206              2.1994448003416616\n",
            "satellite        205              2.188767883835148\n"
          ]
        }
      ]
    },
    {
      "cell_type": "markdown",
      "source": [
        "As you can see there are lots of uninformative words with high frequencies. Some of these words are appeared in the above list due to the dataset's characteristics; for instance, words like 'subject', 'organization', and 'lines' which are appeared in the headline of most files and don't contain any information about the dataset's specifications. Moreover, the frequency of auxiliary verbs is high too. So I'm going to apply another stop-word removing step."
      ],
      "metadata": {
        "id": "G0_ox5FdkSU5"
      }
    },
    {
      "cell_type": "code",
      "source": [
        "def second_stopword_removing(text):\n",
        "  sw = ['subject', 'organization', 'lines']\n",
        "  aux = ['will', 'would', 'could', 'can', 'may', 'should','might', 'must']\n",
        "  words = word_tokenize(text)\n",
        "  filtered = [word for word in words if (word.lower() not in sw+aux)]\n",
        "  return ' '.join(filtered)"
      ],
      "metadata": {
        "id": "RxZgg2fdzqAq"
      },
      "execution_count": 275,
      "outputs": []
    },
    {
      "cell_type": "code",
      "source": [
        "normalized_sents2 = []\n",
        "for sent in normalized_sents:\n",
        "  s = second_stopword_removing(sent)\n",
        "  normalized_sents2.append(s)\n",
        "\n",
        "print(len(normalized_sents2))"
      ],
      "metadata": {
        "colab": {
          "base_uri": "https://localhost:8080/"
        },
        "id": "gnS04vrx1GhV",
        "outputId": "c0cf6cf2-5bde-45c8-afea-cdff7abee1d8"
      },
      "execution_count": 31,
      "outputs": [
        {
          "output_type": "stream",
          "name": "stdout",
          "text": [
            "9366\n"
          ]
        }
      ]
    },
    {
      "cell_type": "code",
      "source": [
        "splited_sents2 = [sent.split() for sent in normalized_sents2]"
      ],
      "metadata": {
        "id": "z3GdaplA1WuX"
      },
      "execution_count": 32,
      "outputs": []
    },
    {
      "cell_type": "markdown",
      "source": [
        "## Dataset's Statistics"
      ],
      "metadata": {
        "id": "p3R7ozdV2gQC"
      }
    },
    {
      "cell_type": "code",
      "source": [
        "sentence_words = list(itertools.chain(*splited_sents2))\n",
        "print ('%-16s' % 'Number of words', '%-16s' % len(sentence_words))\n",
        "print ('%-16s' % 'Number of unique words', '%-16s' % len(set(sentence_words)))\n",
        "avg=np.sum([len(word) for word in sentence_words])/len(sentence_words)\n",
        "print ('%-16s' % 'Average word length', '%-16s' % avg)\n",
        "avg_sentence_length_c=np.mean([len(' '.join(sentence)) for sentence in sentence_words])\n",
        "print ('%-16s' % 'Average sentence length in characters', '%-16s' % avg_sentence_length_c)\n",
        "print ('%-16s' % 'Longest word', '%-16s' % sentence_words[np.argmax([len(word) for word in sentence_words])])"
      ],
      "metadata": {
        "colab": {
          "base_uri": "https://localhost:8080/"
        },
        "id": "PKXaGcw2YBc2",
        "outputId": "2b73fc58-ccba-46e4-968a-300bcd1274df"
      },
      "execution_count": 34,
      "outputs": [
        {
          "output_type": "stream",
          "name": "stdout",
          "text": [
            "Number of words  96505           \n",
            "Number of unique words 15892           \n",
            "Average word length 6.477021915962903\n",
            "Average sentence length in characters 11.954043831925807\n",
            "Longest word     miscforsalewantedmiscwantednewantednywantednjwanted\n"
          ]
        }
      ]
    },
    {
      "cell_type": "markdown",
      "source": [
        "## Tokenization"
      ],
      "metadata": {
        "id": "PdYO_k6sS0eI"
      }
    },
    {
      "cell_type": "code",
      "source": [
        "tokenized_sents = []\n",
        "for sent in normalized_sents2:\n",
        "  words = word_tokenize(sent)\n",
        "  tokenized_sents.append(words)\n",
        "\n",
        "print(len(tokenized_sents))"
      ],
      "metadata": {
        "colab": {
          "base_uri": "https://localhost:8080/"
        },
        "id": "jUbYL_sc9qLh",
        "outputId": "e7786bd3-1571-4749-fe9f-83fcecba02ac"
      },
      "execution_count": 71,
      "outputs": [
        {
          "output_type": "stream",
          "name": "stdout",
          "text": [
            "9366\n"
          ]
        }
      ]
    },
    {
      "cell_type": "code",
      "source": [
        "tokenized_sents[:3]"
      ],
      "metadata": {
        "colab": {
          "base_uri": "https://localhost:8080/"
        },
        "id": "uDE-pn4AS3Ai",
        "outputId": "8bc8c284-21f7-47ca-b12e-6dbe6238a689"
      },
      "execution_count": 72,
      "outputs": [
        {
          "output_type": "execute_result",
          "data": {
            "text/plain": [
              "[['matthew',\n",
              "  'deluca',\n",
              "  'nuclear',\n",
              "  'waste',\n",
              "  'dorsai',\n",
              "  'grey',\n",
              "  'captains',\n",
              "  'nntppostinghost',\n",
              "  'oitgatechedu',\n",
              "  'article',\n",
              "  'william',\n",
              "  'reiken',\n",
              "  'writes',\n",
              "  'creation',\n",
              "  'oil',\n",
              "  'producing',\n",
              "  'bacteria'],\n",
              " ['figure', 'make', 'eat', 'make', 'shit'],\n",
              " ['comments']]"
            ]
          },
          "metadata": {},
          "execution_count": 72
        }
      ]
    },
    {
      "cell_type": "markdown",
      "source": [
        "## Frequency Analysis"
      ],
      "metadata": {
        "id": "kpRgt1Z62pW2"
      }
    },
    {
      "cell_type": "code",
      "source": [
        "all_tokens = list(itertools.chain(*splited_sents2))\n",
        "dataframe = {}\n",
        "token_freq = FreqDist(all_tokens).most_common(30)\n",
        "dataframe['Token'] = [pair[0] for pair in token_freq]\n",
        "dataframe['Frequency'] = [pair[1] for pair in token_freq]\n",
        "freq_analysis = pd.DataFrame(dataframe) \n",
        "freq_analysis"
      ],
      "metadata": {
        "colab": {
          "base_uri": "https://localhost:8080/",
          "height": 990
        },
        "id": "hLpxecjTXPPs",
        "outputId": "ecf45d24-779f-407f-aba9-3526279ff49c"
      },
      "execution_count": 280,
      "outputs": [
        {
          "output_type": "execute_result",
          "data": {
            "text/plain": [
              "              Token  Frequency\n",
              "0             space       1194\n",
              "1            writes        452\n",
              "2               one        399\n",
              "3           article        385\n",
              "4              nasa        382\n",
              "5            launch        327\n",
              "6              like        324\n",
              "7              also        285\n",
              "8   nntppostinghost        282\n",
              "9             orbit        275\n",
              "10            first        273\n",
              "11             moon        271\n",
              "12       university        269\n",
              "13              get        250\n",
              "14             data        246\n",
              "15             dont        242\n",
              "16             time        233\n",
              "17            lunar        224\n",
              "18            earth        222\n",
              "19              new        221\n",
              "20          shuttle        217\n",
              "21           system        213\n",
              "22            think        206\n",
              "23        satellite        205\n",
              "24           people        201\n",
              "25             much        193\n",
              "26             know        188\n",
              "27          program        186\n",
              "28          science        174\n",
              "29          mission        171"
            ],
            "text/html": [
              "\n",
              "  <div id=\"df-cc55cf52-e861-4a1c-acd8-f38b8f0dda9b\">\n",
              "    <div class=\"colab-df-container\">\n",
              "      <div>\n",
              "<style scoped>\n",
              "    .dataframe tbody tr th:only-of-type {\n",
              "        vertical-align: middle;\n",
              "    }\n",
              "\n",
              "    .dataframe tbody tr th {\n",
              "        vertical-align: top;\n",
              "    }\n",
              "\n",
              "    .dataframe thead th {\n",
              "        text-align: right;\n",
              "    }\n",
              "</style>\n",
              "<table border=\"1\" class=\"dataframe\">\n",
              "  <thead>\n",
              "    <tr style=\"text-align: right;\">\n",
              "      <th></th>\n",
              "      <th>Token</th>\n",
              "      <th>Frequency</th>\n",
              "    </tr>\n",
              "  </thead>\n",
              "  <tbody>\n",
              "    <tr>\n",
              "      <th>0</th>\n",
              "      <td>space</td>\n",
              "      <td>1194</td>\n",
              "    </tr>\n",
              "    <tr>\n",
              "      <th>1</th>\n",
              "      <td>writes</td>\n",
              "      <td>452</td>\n",
              "    </tr>\n",
              "    <tr>\n",
              "      <th>2</th>\n",
              "      <td>one</td>\n",
              "      <td>399</td>\n",
              "    </tr>\n",
              "    <tr>\n",
              "      <th>3</th>\n",
              "      <td>article</td>\n",
              "      <td>385</td>\n",
              "    </tr>\n",
              "    <tr>\n",
              "      <th>4</th>\n",
              "      <td>nasa</td>\n",
              "      <td>382</td>\n",
              "    </tr>\n",
              "    <tr>\n",
              "      <th>5</th>\n",
              "      <td>launch</td>\n",
              "      <td>327</td>\n",
              "    </tr>\n",
              "    <tr>\n",
              "      <th>6</th>\n",
              "      <td>like</td>\n",
              "      <td>324</td>\n",
              "    </tr>\n",
              "    <tr>\n",
              "      <th>7</th>\n",
              "      <td>also</td>\n",
              "      <td>285</td>\n",
              "    </tr>\n",
              "    <tr>\n",
              "      <th>8</th>\n",
              "      <td>nntppostinghost</td>\n",
              "      <td>282</td>\n",
              "    </tr>\n",
              "    <tr>\n",
              "      <th>9</th>\n",
              "      <td>orbit</td>\n",
              "      <td>275</td>\n",
              "    </tr>\n",
              "    <tr>\n",
              "      <th>10</th>\n",
              "      <td>first</td>\n",
              "      <td>273</td>\n",
              "    </tr>\n",
              "    <tr>\n",
              "      <th>11</th>\n",
              "      <td>moon</td>\n",
              "      <td>271</td>\n",
              "    </tr>\n",
              "    <tr>\n",
              "      <th>12</th>\n",
              "      <td>university</td>\n",
              "      <td>269</td>\n",
              "    </tr>\n",
              "    <tr>\n",
              "      <th>13</th>\n",
              "      <td>get</td>\n",
              "      <td>250</td>\n",
              "    </tr>\n",
              "    <tr>\n",
              "      <th>14</th>\n",
              "      <td>data</td>\n",
              "      <td>246</td>\n",
              "    </tr>\n",
              "    <tr>\n",
              "      <th>15</th>\n",
              "      <td>dont</td>\n",
              "      <td>242</td>\n",
              "    </tr>\n",
              "    <tr>\n",
              "      <th>16</th>\n",
              "      <td>time</td>\n",
              "      <td>233</td>\n",
              "    </tr>\n",
              "    <tr>\n",
              "      <th>17</th>\n",
              "      <td>lunar</td>\n",
              "      <td>224</td>\n",
              "    </tr>\n",
              "    <tr>\n",
              "      <th>18</th>\n",
              "      <td>earth</td>\n",
              "      <td>222</td>\n",
              "    </tr>\n",
              "    <tr>\n",
              "      <th>19</th>\n",
              "      <td>new</td>\n",
              "      <td>221</td>\n",
              "    </tr>\n",
              "    <tr>\n",
              "      <th>20</th>\n",
              "      <td>shuttle</td>\n",
              "      <td>217</td>\n",
              "    </tr>\n",
              "    <tr>\n",
              "      <th>21</th>\n",
              "      <td>system</td>\n",
              "      <td>213</td>\n",
              "    </tr>\n",
              "    <tr>\n",
              "      <th>22</th>\n",
              "      <td>think</td>\n",
              "      <td>206</td>\n",
              "    </tr>\n",
              "    <tr>\n",
              "      <th>23</th>\n",
              "      <td>satellite</td>\n",
              "      <td>205</td>\n",
              "    </tr>\n",
              "    <tr>\n",
              "      <th>24</th>\n",
              "      <td>people</td>\n",
              "      <td>201</td>\n",
              "    </tr>\n",
              "    <tr>\n",
              "      <th>25</th>\n",
              "      <td>much</td>\n",
              "      <td>193</td>\n",
              "    </tr>\n",
              "    <tr>\n",
              "      <th>26</th>\n",
              "      <td>know</td>\n",
              "      <td>188</td>\n",
              "    </tr>\n",
              "    <tr>\n",
              "      <th>27</th>\n",
              "      <td>program</td>\n",
              "      <td>186</td>\n",
              "    </tr>\n",
              "    <tr>\n",
              "      <th>28</th>\n",
              "      <td>science</td>\n",
              "      <td>174</td>\n",
              "    </tr>\n",
              "    <tr>\n",
              "      <th>29</th>\n",
              "      <td>mission</td>\n",
              "      <td>171</td>\n",
              "    </tr>\n",
              "  </tbody>\n",
              "</table>\n",
              "</div>\n",
              "      <button class=\"colab-df-convert\" onclick=\"convertToInteractive('df-cc55cf52-e861-4a1c-acd8-f38b8f0dda9b')\"\n",
              "              title=\"Convert this dataframe to an interactive table.\"\n",
              "              style=\"display:none;\">\n",
              "        \n",
              "  <svg xmlns=\"http://www.w3.org/2000/svg\" height=\"24px\"viewBox=\"0 0 24 24\"\n",
              "       width=\"24px\">\n",
              "    <path d=\"M0 0h24v24H0V0z\" fill=\"none\"/>\n",
              "    <path d=\"M18.56 5.44l.94 2.06.94-2.06 2.06-.94-2.06-.94-.94-2.06-.94 2.06-2.06.94zm-11 1L8.5 8.5l.94-2.06 2.06-.94-2.06-.94L8.5 2.5l-.94 2.06-2.06.94zm10 10l.94 2.06.94-2.06 2.06-.94-2.06-.94-.94-2.06-.94 2.06-2.06.94z\"/><path d=\"M17.41 7.96l-1.37-1.37c-.4-.4-.92-.59-1.43-.59-.52 0-1.04.2-1.43.59L10.3 9.45l-7.72 7.72c-.78.78-.78 2.05 0 2.83L4 21.41c.39.39.9.59 1.41.59.51 0 1.02-.2 1.41-.59l7.78-7.78 2.81-2.81c.8-.78.8-2.07 0-2.86zM5.41 20L4 18.59l7.72-7.72 1.47 1.35L5.41 20z\"/>\n",
              "  </svg>\n",
              "      </button>\n",
              "      \n",
              "  <style>\n",
              "    .colab-df-container {\n",
              "      display:flex;\n",
              "      flex-wrap:wrap;\n",
              "      gap: 12px;\n",
              "    }\n",
              "\n",
              "    .colab-df-convert {\n",
              "      background-color: #E8F0FE;\n",
              "      border: none;\n",
              "      border-radius: 50%;\n",
              "      cursor: pointer;\n",
              "      display: none;\n",
              "      fill: #1967D2;\n",
              "      height: 32px;\n",
              "      padding: 0 0 0 0;\n",
              "      width: 32px;\n",
              "    }\n",
              "\n",
              "    .colab-df-convert:hover {\n",
              "      background-color: #E2EBFA;\n",
              "      box-shadow: 0px 1px 2px rgba(60, 64, 67, 0.3), 0px 1px 3px 1px rgba(60, 64, 67, 0.15);\n",
              "      fill: #174EA6;\n",
              "    }\n",
              "\n",
              "    [theme=dark] .colab-df-convert {\n",
              "      background-color: #3B4455;\n",
              "      fill: #D2E3FC;\n",
              "    }\n",
              "\n",
              "    [theme=dark] .colab-df-convert:hover {\n",
              "      background-color: #434B5C;\n",
              "      box-shadow: 0px 1px 3px 1px rgba(0, 0, 0, 0.15);\n",
              "      filter: drop-shadow(0px 1px 2px rgba(0, 0, 0, 0.3));\n",
              "      fill: #FFFFFF;\n",
              "    }\n",
              "  </style>\n",
              "\n",
              "      <script>\n",
              "        const buttonEl =\n",
              "          document.querySelector('#df-cc55cf52-e861-4a1c-acd8-f38b8f0dda9b button.colab-df-convert');\n",
              "        buttonEl.style.display =\n",
              "          google.colab.kernel.accessAllowed ? 'block' : 'none';\n",
              "\n",
              "        async function convertToInteractive(key) {\n",
              "          const element = document.querySelector('#df-cc55cf52-e861-4a1c-acd8-f38b8f0dda9b');\n",
              "          const dataTable =\n",
              "            await google.colab.kernel.invokeFunction('convertToInteractive',\n",
              "                                                     [key], {});\n",
              "          if (!dataTable) return;\n",
              "\n",
              "          const docLinkHtml = 'Like what you see? Visit the ' +\n",
              "            '<a target=\"_blank\" href=https://colab.research.google.com/notebooks/data_table.ipynb>data table notebook</a>'\n",
              "            + ' to learn more about interactive tables.';\n",
              "          element.innerHTML = '';\n",
              "          dataTable['output_type'] = 'display_data';\n",
              "          await google.colab.output.renderOutput(dataTable, element);\n",
              "          const docLink = document.createElement('div');\n",
              "          docLink.innerHTML = docLinkHtml;\n",
              "          element.appendChild(docLink);\n",
              "        }\n",
              "      </script>\n",
              "    </div>\n",
              "  </div>\n",
              "  "
            ]
          },
          "metadata": {},
          "execution_count": 280
        }
      ]
    },
    {
      "cell_type": "markdown",
      "source": [
        "## Stemming & Lemmatization"
      ],
      "metadata": {
        "id": "jCy9zpgPXTcf"
      }
    },
    {
      "cell_type": "code",
      "source": [
        "def get_lemmatization(token):\n",
        "  lemmatizer = WordNetLemmatizer()\n",
        "  return lemmatizer.lemmatize(token)"
      ],
      "metadata": {
        "id": "c-6m421faNT0"
      },
      "execution_count": 282,
      "outputs": []
    },
    {
      "cell_type": "code",
      "source": [
        "def get_stemming(token):\n",
        "  stemmer  = PorterStemmer()\n",
        "  return stemmer.stem(token)"
      ],
      "metadata": {
        "id": "AitV6U-4aSae"
      },
      "execution_count": 283,
      "outputs": []
    },
    {
      "cell_type": "code",
      "source": [
        "lem_tokenized = [[get_lemmatization(token) for token in sent] for sent in tqdm.tqdm(tokenized_sents)]\n",
        "len(lem_tokenized)"
      ],
      "metadata": {
        "colab": {
          "base_uri": "https://localhost:8080/"
        },
        "id": "cVhIyUmRax5h",
        "outputId": "10a849fb-ff79-4873-a3bc-bebe01f300ab"
      },
      "execution_count": 284,
      "outputs": [
        {
          "output_type": "stream",
          "name": "stderr",
          "text": [
            "100%|██████████| 9366/9366 [00:00<00:00, 18657.69it/s]\n"
          ]
        },
        {
          "output_type": "execute_result",
          "data": {
            "text/plain": [
              "9366"
            ]
          },
          "metadata": {},
          "execution_count": 284
        }
      ]
    },
    {
      "cell_type": "code",
      "source": [
        "lemStem_tokenized = [[get_stemming(token) for token in sent] for sent in tqdm.tqdm(lem_tokenized)]\n",
        "len(lemStem_tokenized)"
      ],
      "metadata": {
        "colab": {
          "base_uri": "https://localhost:8080/"
        },
        "id": "WWSD9Y6jiqdr",
        "outputId": "1daef5b1-0ef4-4007-9fc2-7fbda47b5285"
      },
      "execution_count": 285,
      "outputs": [
        {
          "output_type": "stream",
          "name": "stderr",
          "text": [
            "100%|██████████| 9366/9366 [00:03<00:00, 2926.73it/s]\n"
          ]
        },
        {
          "output_type": "execute_result",
          "data": {
            "text/plain": [
              "9366"
            ]
          },
          "metadata": {},
          "execution_count": 285
        }
      ]
    },
    {
      "cell_type": "code",
      "source": [
        "lemStem_tokenized[:3]"
      ],
      "metadata": {
        "colab": {
          "base_uri": "https://localhost:8080/"
        },
        "id": "3z_rwCcOl80E",
        "outputId": "080eec59-70ba-4293-8cc5-0f5c147ae0dc"
      },
      "execution_count": 286,
      "outputs": [
        {
          "output_type": "execute_result",
          "data": {
            "text/plain": [
              "[['matthew',\n",
              "  'deluca',\n",
              "  'nuclear',\n",
              "  'wast',\n",
              "  'dorsai',\n",
              "  'grey',\n",
              "  'captain',\n",
              "  'nntppostinghost',\n",
              "  'oitgatechedu',\n",
              "  'articl',\n",
              "  'william',\n",
              "  'reiken',\n",
              "  'write',\n",
              "  'creation',\n",
              "  'oil',\n",
              "  'produc',\n",
              "  'bacteria'],\n",
              " ['figur', 'make', 'eat', 'make', 'shit'],\n",
              " ['comment']]"
            ]
          },
          "metadata": {},
          "execution_count": 286
        }
      ]
    },
    {
      "cell_type": "code",
      "source": [
        "all_tokens = []\n",
        "for sent in lemStem_tokenized:\n",
        "  for token in sent:\n",
        "    all_tokens.append(token)\n",
        "len(all_tokens)"
      ],
      "metadata": {
        "colab": {
          "base_uri": "https://localhost:8080/"
        },
        "id": "hikq96Uojp6P",
        "outputId": "eb1fa834-2e7e-4cab-d394-e77ef0aef0ba"
      },
      "execution_count": 287,
      "outputs": [
        {
          "output_type": "execute_result",
          "data": {
            "text/plain": [
              "96505"
            ]
          },
          "metadata": {},
          "execution_count": 287
        }
      ]
    },
    {
      "cell_type": "code",
      "source": [
        "dataframe = {}\n",
        "token_freq = FreqDist(all_tokens).most_common(20)\n",
        "dataframe['Token'] = [pair[0] for pair in token_freq]\n",
        "dataframe['Frequency'] = [pair[1] for pair in token_freq]\n",
        "freq_analysis = pd.DataFrame(dataframe) \n",
        "freq_analysis"
      ],
      "metadata": {
        "colab": {
          "base_uri": "https://localhost:8080/",
          "height": 676
        },
        "id": "kNyfgBMKYHdV",
        "outputId": "8651e87f-7948-4511-e36c-b9ae50fa7ec3"
      },
      "execution_count": 289,
      "outputs": [
        {
          "output_type": "execute_result",
          "data": {
            "text/plain": [
              "              Token  Frequency\n",
              "0             space       1195\n",
              "1             orbit        506\n",
              "2             write        478\n",
              "3            launch        470\n",
              "4               one        413\n",
              "5              nasa        409\n",
              "6               use        404\n",
              "7            articl        402\n",
              "8              like        360\n",
              "9           univers        335\n",
              "10           system        329\n",
              "11              get        327\n",
              "12             year        318\n",
              "13             time        317\n",
              "14         satellit        311\n",
              "15             also        285\n",
              "16             moon        285\n",
              "17  nntppostinghost        282\n",
              "18            first        273\n",
              "19             work        264"
            ],
            "text/html": [
              "\n",
              "  <div id=\"df-a17be723-dbba-4b07-8db9-6d2102d41edb\">\n",
              "    <div class=\"colab-df-container\">\n",
              "      <div>\n",
              "<style scoped>\n",
              "    .dataframe tbody tr th:only-of-type {\n",
              "        vertical-align: middle;\n",
              "    }\n",
              "\n",
              "    .dataframe tbody tr th {\n",
              "        vertical-align: top;\n",
              "    }\n",
              "\n",
              "    .dataframe thead th {\n",
              "        text-align: right;\n",
              "    }\n",
              "</style>\n",
              "<table border=\"1\" class=\"dataframe\">\n",
              "  <thead>\n",
              "    <tr style=\"text-align: right;\">\n",
              "      <th></th>\n",
              "      <th>Token</th>\n",
              "      <th>Frequency</th>\n",
              "    </tr>\n",
              "  </thead>\n",
              "  <tbody>\n",
              "    <tr>\n",
              "      <th>0</th>\n",
              "      <td>space</td>\n",
              "      <td>1195</td>\n",
              "    </tr>\n",
              "    <tr>\n",
              "      <th>1</th>\n",
              "      <td>orbit</td>\n",
              "      <td>506</td>\n",
              "    </tr>\n",
              "    <tr>\n",
              "      <th>2</th>\n",
              "      <td>write</td>\n",
              "      <td>478</td>\n",
              "    </tr>\n",
              "    <tr>\n",
              "      <th>3</th>\n",
              "      <td>launch</td>\n",
              "      <td>470</td>\n",
              "    </tr>\n",
              "    <tr>\n",
              "      <th>4</th>\n",
              "      <td>one</td>\n",
              "      <td>413</td>\n",
              "    </tr>\n",
              "    <tr>\n",
              "      <th>5</th>\n",
              "      <td>nasa</td>\n",
              "      <td>409</td>\n",
              "    </tr>\n",
              "    <tr>\n",
              "      <th>6</th>\n",
              "      <td>use</td>\n",
              "      <td>404</td>\n",
              "    </tr>\n",
              "    <tr>\n",
              "      <th>7</th>\n",
              "      <td>articl</td>\n",
              "      <td>402</td>\n",
              "    </tr>\n",
              "    <tr>\n",
              "      <th>8</th>\n",
              "      <td>like</td>\n",
              "      <td>360</td>\n",
              "    </tr>\n",
              "    <tr>\n",
              "      <th>9</th>\n",
              "      <td>univers</td>\n",
              "      <td>335</td>\n",
              "    </tr>\n",
              "    <tr>\n",
              "      <th>10</th>\n",
              "      <td>system</td>\n",
              "      <td>329</td>\n",
              "    </tr>\n",
              "    <tr>\n",
              "      <th>11</th>\n",
              "      <td>get</td>\n",
              "      <td>327</td>\n",
              "    </tr>\n",
              "    <tr>\n",
              "      <th>12</th>\n",
              "      <td>year</td>\n",
              "      <td>318</td>\n",
              "    </tr>\n",
              "    <tr>\n",
              "      <th>13</th>\n",
              "      <td>time</td>\n",
              "      <td>317</td>\n",
              "    </tr>\n",
              "    <tr>\n",
              "      <th>14</th>\n",
              "      <td>satellit</td>\n",
              "      <td>311</td>\n",
              "    </tr>\n",
              "    <tr>\n",
              "      <th>15</th>\n",
              "      <td>also</td>\n",
              "      <td>285</td>\n",
              "    </tr>\n",
              "    <tr>\n",
              "      <th>16</th>\n",
              "      <td>moon</td>\n",
              "      <td>285</td>\n",
              "    </tr>\n",
              "    <tr>\n",
              "      <th>17</th>\n",
              "      <td>nntppostinghost</td>\n",
              "      <td>282</td>\n",
              "    </tr>\n",
              "    <tr>\n",
              "      <th>18</th>\n",
              "      <td>first</td>\n",
              "      <td>273</td>\n",
              "    </tr>\n",
              "    <tr>\n",
              "      <th>19</th>\n",
              "      <td>work</td>\n",
              "      <td>264</td>\n",
              "    </tr>\n",
              "  </tbody>\n",
              "</table>\n",
              "</div>\n",
              "      <button class=\"colab-df-convert\" onclick=\"convertToInteractive('df-a17be723-dbba-4b07-8db9-6d2102d41edb')\"\n",
              "              title=\"Convert this dataframe to an interactive table.\"\n",
              "              style=\"display:none;\">\n",
              "        \n",
              "  <svg xmlns=\"http://www.w3.org/2000/svg\" height=\"24px\"viewBox=\"0 0 24 24\"\n",
              "       width=\"24px\">\n",
              "    <path d=\"M0 0h24v24H0V0z\" fill=\"none\"/>\n",
              "    <path d=\"M18.56 5.44l.94 2.06.94-2.06 2.06-.94-2.06-.94-.94-2.06-.94 2.06-2.06.94zm-11 1L8.5 8.5l.94-2.06 2.06-.94-2.06-.94L8.5 2.5l-.94 2.06-2.06.94zm10 10l.94 2.06.94-2.06 2.06-.94-2.06-.94-.94-2.06-.94 2.06-2.06.94z\"/><path d=\"M17.41 7.96l-1.37-1.37c-.4-.4-.92-.59-1.43-.59-.52 0-1.04.2-1.43.59L10.3 9.45l-7.72 7.72c-.78.78-.78 2.05 0 2.83L4 21.41c.39.39.9.59 1.41.59.51 0 1.02-.2 1.41-.59l7.78-7.78 2.81-2.81c.8-.78.8-2.07 0-2.86zM5.41 20L4 18.59l7.72-7.72 1.47 1.35L5.41 20z\"/>\n",
              "  </svg>\n",
              "      </button>\n",
              "      \n",
              "  <style>\n",
              "    .colab-df-container {\n",
              "      display:flex;\n",
              "      flex-wrap:wrap;\n",
              "      gap: 12px;\n",
              "    }\n",
              "\n",
              "    .colab-df-convert {\n",
              "      background-color: #E8F0FE;\n",
              "      border: none;\n",
              "      border-radius: 50%;\n",
              "      cursor: pointer;\n",
              "      display: none;\n",
              "      fill: #1967D2;\n",
              "      height: 32px;\n",
              "      padding: 0 0 0 0;\n",
              "      width: 32px;\n",
              "    }\n",
              "\n",
              "    .colab-df-convert:hover {\n",
              "      background-color: #E2EBFA;\n",
              "      box-shadow: 0px 1px 2px rgba(60, 64, 67, 0.3), 0px 1px 3px 1px rgba(60, 64, 67, 0.15);\n",
              "      fill: #174EA6;\n",
              "    }\n",
              "\n",
              "    [theme=dark] .colab-df-convert {\n",
              "      background-color: #3B4455;\n",
              "      fill: #D2E3FC;\n",
              "    }\n",
              "\n",
              "    [theme=dark] .colab-df-convert:hover {\n",
              "      background-color: #434B5C;\n",
              "      box-shadow: 0px 1px 3px 1px rgba(0, 0, 0, 0.15);\n",
              "      filter: drop-shadow(0px 1px 2px rgba(0, 0, 0, 0.3));\n",
              "      fill: #FFFFFF;\n",
              "    }\n",
              "  </style>\n",
              "\n",
              "      <script>\n",
              "        const buttonEl =\n",
              "          document.querySelector('#df-a17be723-dbba-4b07-8db9-6d2102d41edb button.colab-df-convert');\n",
              "        buttonEl.style.display =\n",
              "          google.colab.kernel.accessAllowed ? 'block' : 'none';\n",
              "\n",
              "        async function convertToInteractive(key) {\n",
              "          const element = document.querySelector('#df-a17be723-dbba-4b07-8db9-6d2102d41edb');\n",
              "          const dataTable =\n",
              "            await google.colab.kernel.invokeFunction('convertToInteractive',\n",
              "                                                     [key], {});\n",
              "          if (!dataTable) return;\n",
              "\n",
              "          const docLinkHtml = 'Like what you see? Visit the ' +\n",
              "            '<a target=\"_blank\" href=https://colab.research.google.com/notebooks/data_table.ipynb>data table notebook</a>'\n",
              "            + ' to learn more about interactive tables.';\n",
              "          element.innerHTML = '';\n",
              "          dataTable['output_type'] = 'display_data';\n",
              "          await google.colab.output.renderOutput(dataTable, element);\n",
              "          const docLink = document.createElement('div');\n",
              "          docLink.innerHTML = docLinkHtml;\n",
              "          element.appendChild(docLink);\n",
              "        }\n",
              "      </script>\n",
              "    </div>\n",
              "  </div>\n",
              "  "
            ]
          },
          "metadata": {},
          "execution_count": 289
        }
      ]
    },
    {
      "cell_type": "markdown",
      "source": [
        "## Keyword extraction using TF-IDF"
      ],
      "metadata": {
        "id": "5EPmO_cROTUK"
      }
    },
    {
      "cell_type": "markdown",
      "source": [
        "In order to extract keywords, I am going to combine two different approaches. As you can see, most frequent terms are keywords of this context as well. Thus, I can calculate TF-IDF values just for frequent tokens."
      ],
      "metadata": {
        "id": "A7GDEdAanKS9"
      }
    },
    {
      "cell_type": "code",
      "source": [
        "frequents = FreqDist(all_tokens).most_common(1000)"
      ],
      "metadata": {
        "id": "k5HPYcZPOX36"
      },
      "execution_count": 290,
      "outputs": []
    },
    {
      "cell_type": "code",
      "source": [
        "terms = [pair[0] for pair in frequents]\n",
        "tf = [pair[1] for pair in frequents]"
      ],
      "metadata": {
        "id": "-6rQVPAOsszX"
      },
      "execution_count": 291,
      "outputs": []
    },
    {
      "cell_type": "code",
      "source": [
        "doc_sent = []\n",
        "for c in content:\n",
        "  doc_sent.append(sent_tokenize(c))\n",
        "\n",
        "print(len(doc_sent))"
      ],
      "metadata": {
        "colab": {
          "base_uri": "https://localhost:8080/"
        },
        "id": "ilsiRcqjtRdF",
        "outputId": "8381f828-a933-4564-da79-4cb6e5a86c72"
      },
      "execution_count": 292,
      "outputs": [
        {
          "output_type": "stream",
          "name": "stdout",
          "text": [
            "593\n"
          ]
        }
      ]
    },
    {
      "cell_type": "code",
      "source": [
        "normalized_doc_sents = []\n",
        "for doc in doc_sent:\n",
        "  temp = []\n",
        "  for sent in doc:\n",
        "    s = remove_whitespace(sent)\n",
        "    s, _ = find_emails(s)\n",
        "    s = remove_punctuation(s)\n",
        "    s = remove_stopwords(s)\n",
        "    s = get_lowercase(s)\n",
        "    s = second_stopword_removing(s)\n",
        "    temp.append(s)\n",
        "  normalized_doc_sents.append(temp)\n",
        "\n",
        "print(len(normalized_doc_sents))"
      ],
      "metadata": {
        "colab": {
          "base_uri": "https://localhost:8080/"
        },
        "id": "WdmmB90ivm5A",
        "outputId": "253d3dae-fd5b-4441-9c8f-466fa19d8fb3"
      },
      "execution_count": 293,
      "outputs": [
        {
          "output_type": "stream",
          "name": "stdout",
          "text": [
            "593\n"
          ]
        }
      ]
    },
    {
      "cell_type": "code",
      "source": [
        "tokenized_doc_sents = []\n",
        "for doc in normalized_doc_sents:\n",
        "  temp = []\n",
        "  for sent in doc:\n",
        "    words = word_tokenize(sent)\n",
        "    temp.append(words)\n",
        "  tokenized_doc_sents.append(temp)\n",
        "\n",
        "print(len(tokenized_doc_sents))"
      ],
      "metadata": {
        "colab": {
          "base_uri": "https://localhost:8080/"
        },
        "id": "3TWk8is7xSKO",
        "outputId": "a07b25f7-6f40-4353-b09b-60df10214a36"
      },
      "execution_count": 294,
      "outputs": [
        {
          "output_type": "stream",
          "name": "stdout",
          "text": [
            "593\n"
          ]
        }
      ]
    },
    {
      "cell_type": "code",
      "source": [
        "lem_tokenized_doc = []\n",
        "\n",
        "for doc in tokenized_doc_sents:\n",
        "  sents = []\n",
        "  for sent in doc:\n",
        "    tokens = []\n",
        "    for token in sent:\n",
        "      tokens.append(get_lemmatization(token))\n",
        "    sents.append(tokens)\n",
        "  lem_tokenized_doc.append(sents)\n",
        "\n",
        "len(lem_tokenized_doc)"
      ],
      "metadata": {
        "colab": {
          "base_uri": "https://localhost:8080/"
        },
        "id": "d1c2ktevy5Fm",
        "outputId": "bd16c46d-bc3e-4018-df7d-117f62ed0df7"
      },
      "execution_count": 295,
      "outputs": [
        {
          "output_type": "execute_result",
          "data": {
            "text/plain": [
              "593"
            ]
          },
          "metadata": {},
          "execution_count": 295
        }
      ]
    },
    {
      "cell_type": "code",
      "source": [
        "lemStem_tokenized_doc = []\n",
        "\n",
        "for doc in lem_tokenized_doc:\n",
        "  sents = []\n",
        "  for sent in doc:\n",
        "    tokens = []\n",
        "    for token in sent:\n",
        "      tokens.append(get_stemming(token))\n",
        "    sents.append(tokens)\n",
        "  lemStem_tokenized_doc.append(sents)\n",
        "\n",
        "len(lemStem_tokenized_doc)"
      ],
      "metadata": {
        "colab": {
          "base_uri": "https://localhost:8080/"
        },
        "id": "jyBtC8yIy8SV",
        "outputId": "3c08c169-a6ec-4624-cf3d-384e7c89008c"
      },
      "execution_count": 296,
      "outputs": [
        {
          "output_type": "execute_result",
          "data": {
            "text/plain": [
              "593"
            ]
          },
          "metadata": {},
          "execution_count": 296
        }
      ]
    },
    {
      "cell_type": "code",
      "source": [
        "df = [0 for _ in range(len(terms))]\n",
        "for i, term in enumerate(terms):\n",
        "  for doc in lemStem_tokenized_doc:\n",
        "    for sent in doc:\n",
        "      if term in sent:\n",
        "        df[i] += 1\n",
        "        break\n",
        "len(df)"
      ],
      "metadata": {
        "colab": {
          "base_uri": "https://localhost:8080/"
        },
        "id": "v42Kj-mt0xEV",
        "outputId": "6ba49c59-c52e-4097-84ef-cdb570299d8d"
      },
      "execution_count": 297,
      "outputs": [
        {
          "output_type": "execute_result",
          "data": {
            "text/plain": [
              "1000"
            ]
          },
          "metadata": {},
          "execution_count": 297
        }
      ]
    },
    {
      "cell_type": "code",
      "source": [
        "dataframe = {}\n",
        "dataframe['Token'] = terms[:20]\n",
        "dataframe['TF'] = tf[:20]\n",
        "dataframe['DF'] = df[:20]\n",
        "token_tf_df = pd.DataFrame(dataframe)\n",
        "token_tf_df"
      ],
      "metadata": {
        "colab": {
          "base_uri": "https://localhost:8080/",
          "height": 676
        },
        "id": "aHJdmjb6C0Bu",
        "outputId": "70d6d765-2703-4122-8a86-8d2bf1fbc596"
      },
      "execution_count": 298,
      "outputs": [
        {
          "output_type": "execute_result",
          "data": {
            "text/plain": [
              "              Token    TF   DF\n",
              "0             space  1195  294\n",
              "1             orbit   506  160\n",
              "2             write   478  359\n",
              "3            launch   470  121\n",
              "4               one   413  225\n",
              "5              nasa   409  139\n",
              "6               use   404  203\n",
              "7            articl   402  307\n",
              "8              like   360  217\n",
              "9           univers   335  219\n",
              "10           system   329  119\n",
              "11              get   327  184\n",
              "12             year   318  161\n",
              "13             time   317  152\n",
              "14         satellit   311   61\n",
              "15             also   285  157\n",
              "16             moon   285  114\n",
              "17  nntppostinghost   282  282\n",
              "18            first   273  142\n",
              "19             work   264  155"
            ],
            "text/html": [
              "\n",
              "  <div id=\"df-1e20fe19-c9db-4d0c-a71a-a06fd7982497\">\n",
              "    <div class=\"colab-df-container\">\n",
              "      <div>\n",
              "<style scoped>\n",
              "    .dataframe tbody tr th:only-of-type {\n",
              "        vertical-align: middle;\n",
              "    }\n",
              "\n",
              "    .dataframe tbody tr th {\n",
              "        vertical-align: top;\n",
              "    }\n",
              "\n",
              "    .dataframe thead th {\n",
              "        text-align: right;\n",
              "    }\n",
              "</style>\n",
              "<table border=\"1\" class=\"dataframe\">\n",
              "  <thead>\n",
              "    <tr style=\"text-align: right;\">\n",
              "      <th></th>\n",
              "      <th>Token</th>\n",
              "      <th>TF</th>\n",
              "      <th>DF</th>\n",
              "    </tr>\n",
              "  </thead>\n",
              "  <tbody>\n",
              "    <tr>\n",
              "      <th>0</th>\n",
              "      <td>space</td>\n",
              "      <td>1195</td>\n",
              "      <td>294</td>\n",
              "    </tr>\n",
              "    <tr>\n",
              "      <th>1</th>\n",
              "      <td>orbit</td>\n",
              "      <td>506</td>\n",
              "      <td>160</td>\n",
              "    </tr>\n",
              "    <tr>\n",
              "      <th>2</th>\n",
              "      <td>write</td>\n",
              "      <td>478</td>\n",
              "      <td>359</td>\n",
              "    </tr>\n",
              "    <tr>\n",
              "      <th>3</th>\n",
              "      <td>launch</td>\n",
              "      <td>470</td>\n",
              "      <td>121</td>\n",
              "    </tr>\n",
              "    <tr>\n",
              "      <th>4</th>\n",
              "      <td>one</td>\n",
              "      <td>413</td>\n",
              "      <td>225</td>\n",
              "    </tr>\n",
              "    <tr>\n",
              "      <th>5</th>\n",
              "      <td>nasa</td>\n",
              "      <td>409</td>\n",
              "      <td>139</td>\n",
              "    </tr>\n",
              "    <tr>\n",
              "      <th>6</th>\n",
              "      <td>use</td>\n",
              "      <td>404</td>\n",
              "      <td>203</td>\n",
              "    </tr>\n",
              "    <tr>\n",
              "      <th>7</th>\n",
              "      <td>articl</td>\n",
              "      <td>402</td>\n",
              "      <td>307</td>\n",
              "    </tr>\n",
              "    <tr>\n",
              "      <th>8</th>\n",
              "      <td>like</td>\n",
              "      <td>360</td>\n",
              "      <td>217</td>\n",
              "    </tr>\n",
              "    <tr>\n",
              "      <th>9</th>\n",
              "      <td>univers</td>\n",
              "      <td>335</td>\n",
              "      <td>219</td>\n",
              "    </tr>\n",
              "    <tr>\n",
              "      <th>10</th>\n",
              "      <td>system</td>\n",
              "      <td>329</td>\n",
              "      <td>119</td>\n",
              "    </tr>\n",
              "    <tr>\n",
              "      <th>11</th>\n",
              "      <td>get</td>\n",
              "      <td>327</td>\n",
              "      <td>184</td>\n",
              "    </tr>\n",
              "    <tr>\n",
              "      <th>12</th>\n",
              "      <td>year</td>\n",
              "      <td>318</td>\n",
              "      <td>161</td>\n",
              "    </tr>\n",
              "    <tr>\n",
              "      <th>13</th>\n",
              "      <td>time</td>\n",
              "      <td>317</td>\n",
              "      <td>152</td>\n",
              "    </tr>\n",
              "    <tr>\n",
              "      <th>14</th>\n",
              "      <td>satellit</td>\n",
              "      <td>311</td>\n",
              "      <td>61</td>\n",
              "    </tr>\n",
              "    <tr>\n",
              "      <th>15</th>\n",
              "      <td>also</td>\n",
              "      <td>285</td>\n",
              "      <td>157</td>\n",
              "    </tr>\n",
              "    <tr>\n",
              "      <th>16</th>\n",
              "      <td>moon</td>\n",
              "      <td>285</td>\n",
              "      <td>114</td>\n",
              "    </tr>\n",
              "    <tr>\n",
              "      <th>17</th>\n",
              "      <td>nntppostinghost</td>\n",
              "      <td>282</td>\n",
              "      <td>282</td>\n",
              "    </tr>\n",
              "    <tr>\n",
              "      <th>18</th>\n",
              "      <td>first</td>\n",
              "      <td>273</td>\n",
              "      <td>142</td>\n",
              "    </tr>\n",
              "    <tr>\n",
              "      <th>19</th>\n",
              "      <td>work</td>\n",
              "      <td>264</td>\n",
              "      <td>155</td>\n",
              "    </tr>\n",
              "  </tbody>\n",
              "</table>\n",
              "</div>\n",
              "      <button class=\"colab-df-convert\" onclick=\"convertToInteractive('df-1e20fe19-c9db-4d0c-a71a-a06fd7982497')\"\n",
              "              title=\"Convert this dataframe to an interactive table.\"\n",
              "              style=\"display:none;\">\n",
              "        \n",
              "  <svg xmlns=\"http://www.w3.org/2000/svg\" height=\"24px\"viewBox=\"0 0 24 24\"\n",
              "       width=\"24px\">\n",
              "    <path d=\"M0 0h24v24H0V0z\" fill=\"none\"/>\n",
              "    <path d=\"M18.56 5.44l.94 2.06.94-2.06 2.06-.94-2.06-.94-.94-2.06-.94 2.06-2.06.94zm-11 1L8.5 8.5l.94-2.06 2.06-.94-2.06-.94L8.5 2.5l-.94 2.06-2.06.94zm10 10l.94 2.06.94-2.06 2.06-.94-2.06-.94-.94-2.06-.94 2.06-2.06.94z\"/><path d=\"M17.41 7.96l-1.37-1.37c-.4-.4-.92-.59-1.43-.59-.52 0-1.04.2-1.43.59L10.3 9.45l-7.72 7.72c-.78.78-.78 2.05 0 2.83L4 21.41c.39.39.9.59 1.41.59.51 0 1.02-.2 1.41-.59l7.78-7.78 2.81-2.81c.8-.78.8-2.07 0-2.86zM5.41 20L4 18.59l7.72-7.72 1.47 1.35L5.41 20z\"/>\n",
              "  </svg>\n",
              "      </button>\n",
              "      \n",
              "  <style>\n",
              "    .colab-df-container {\n",
              "      display:flex;\n",
              "      flex-wrap:wrap;\n",
              "      gap: 12px;\n",
              "    }\n",
              "\n",
              "    .colab-df-convert {\n",
              "      background-color: #E8F0FE;\n",
              "      border: none;\n",
              "      border-radius: 50%;\n",
              "      cursor: pointer;\n",
              "      display: none;\n",
              "      fill: #1967D2;\n",
              "      height: 32px;\n",
              "      padding: 0 0 0 0;\n",
              "      width: 32px;\n",
              "    }\n",
              "\n",
              "    .colab-df-convert:hover {\n",
              "      background-color: #E2EBFA;\n",
              "      box-shadow: 0px 1px 2px rgba(60, 64, 67, 0.3), 0px 1px 3px 1px rgba(60, 64, 67, 0.15);\n",
              "      fill: #174EA6;\n",
              "    }\n",
              "\n",
              "    [theme=dark] .colab-df-convert {\n",
              "      background-color: #3B4455;\n",
              "      fill: #D2E3FC;\n",
              "    }\n",
              "\n",
              "    [theme=dark] .colab-df-convert:hover {\n",
              "      background-color: #434B5C;\n",
              "      box-shadow: 0px 1px 3px 1px rgba(0, 0, 0, 0.15);\n",
              "      filter: drop-shadow(0px 1px 2px rgba(0, 0, 0, 0.3));\n",
              "      fill: #FFFFFF;\n",
              "    }\n",
              "  </style>\n",
              "\n",
              "      <script>\n",
              "        const buttonEl =\n",
              "          document.querySelector('#df-1e20fe19-c9db-4d0c-a71a-a06fd7982497 button.colab-df-convert');\n",
              "        buttonEl.style.display =\n",
              "          google.colab.kernel.accessAllowed ? 'block' : 'none';\n",
              "\n",
              "        async function convertToInteractive(key) {\n",
              "          const element = document.querySelector('#df-1e20fe19-c9db-4d0c-a71a-a06fd7982497');\n",
              "          const dataTable =\n",
              "            await google.colab.kernel.invokeFunction('convertToInteractive',\n",
              "                                                     [key], {});\n",
              "          if (!dataTable) return;\n",
              "\n",
              "          const docLinkHtml = 'Like what you see? Visit the ' +\n",
              "            '<a target=\"_blank\" href=https://colab.research.google.com/notebooks/data_table.ipynb>data table notebook</a>'\n",
              "            + ' to learn more about interactive tables.';\n",
              "          element.innerHTML = '';\n",
              "          dataTable['output_type'] = 'display_data';\n",
              "          await google.colab.output.renderOutput(dataTable, element);\n",
              "          const docLink = document.createElement('div');\n",
              "          docLink.innerHTML = docLinkHtml;\n",
              "          element.appendChild(docLink);\n",
              "        }\n",
              "      </script>\n",
              "    </div>\n",
              "  </div>\n",
              "  "
            ]
          },
          "metadata": {},
          "execution_count": 298
        }
      ]
    },
    {
      "cell_type": "code",
      "source": [
        "def get_idf(df, n):\n",
        "  idf = np.log2(n/df) + 1\n",
        "  return idf"
      ],
      "metadata": {
        "id": "gizL-TEJDd0k"
      },
      "execution_count": 299,
      "outputs": []
    },
    {
      "cell_type": "code",
      "source": [
        "n = len(lemStem_tokenized_doc)\n",
        "idf = []\n",
        "for x in df:\n",
        "  idf.append(get_idf(x, n))\n",
        "len(idf)"
      ],
      "metadata": {
        "colab": {
          "base_uri": "https://localhost:8080/"
        },
        "id": "8cTogfwzD_yN",
        "outputId": "31354afd-e49b-4f87-f3c2-3bcbe7fb7fcf"
      },
      "execution_count": 300,
      "outputs": [
        {
          "output_type": "execute_result",
          "data": {
            "text/plain": [
              "1000"
            ]
          },
          "metadata": {},
          "execution_count": 300
        }
      ]
    },
    {
      "cell_type": "code",
      "source": [
        "term_tfidf = {}\n",
        "for i in range(len(terms)):\n",
        "  tfidf = tf[i] * idf[i]\n",
        "  term_tfidf[terms[i]] = tfidf"
      ],
      "metadata": {
        "id": "pPq2gvaJEW1m"
      },
      "execution_count": 301,
      "outputs": []
    },
    {
      "cell_type": "code",
      "source": [
        "sorted_pairs = sorted(term_tfidf.items(), key=lambda kv: -kv[1])"
      ],
      "metadata": {
        "id": "fdyDHxAYFFuk"
      },
      "execution_count": 302,
      "outputs": []
    },
    {
      "cell_type": "markdown",
      "source": [
        "## Best 10 Keywords"
      ],
      "metadata": {
        "id": "KpamRULmGY1S"
      }
    },
    {
      "cell_type": "code",
      "source": [
        "dataframe = {}\n",
        "dataframe['Token'] = [pair[0] for pair in sorted_pairs][:10]\n",
        "dataframe['TF-IDF'] = [pair[1] for pair in sorted_pairs][:10]\n",
        "token_tf_idf = pd.DataFrame(dataframe)\n",
        "token_tf_idf"
      ],
      "metadata": {
        "colab": {
          "base_uri": "https://localhost:8080/",
          "height": 363
        },
        "id": "SUJff9HMGH8_",
        "outputId": "57a1083f-a67d-4dd0-9b66-da754d1b8892"
      },
      "execution_count": 303,
      "outputs": [
        {
          "output_type": "execute_result",
          "data": {
            "text/plain": [
              "      Token       TF-IDF\n",
              "0     space  2404.598060\n",
              "1    launch  1547.721777\n",
              "2     orbit  1462.319861\n",
              "3  satellit  1331.437948\n",
              "4      nasa  1265.015414\n",
              "5    system  1091.316205\n",
              "6   mission  1075.081325\n",
              "7       use  1028.807160\n",
              "8       one   990.418234\n",
              "9      moon   963.014510"
            ],
            "text/html": [
              "\n",
              "  <div id=\"df-40f3dd70-ee73-47c1-a751-98f583241558\">\n",
              "    <div class=\"colab-df-container\">\n",
              "      <div>\n",
              "<style scoped>\n",
              "    .dataframe tbody tr th:only-of-type {\n",
              "        vertical-align: middle;\n",
              "    }\n",
              "\n",
              "    .dataframe tbody tr th {\n",
              "        vertical-align: top;\n",
              "    }\n",
              "\n",
              "    .dataframe thead th {\n",
              "        text-align: right;\n",
              "    }\n",
              "</style>\n",
              "<table border=\"1\" class=\"dataframe\">\n",
              "  <thead>\n",
              "    <tr style=\"text-align: right;\">\n",
              "      <th></th>\n",
              "      <th>Token</th>\n",
              "      <th>TF-IDF</th>\n",
              "    </tr>\n",
              "  </thead>\n",
              "  <tbody>\n",
              "    <tr>\n",
              "      <th>0</th>\n",
              "      <td>space</td>\n",
              "      <td>2404.598060</td>\n",
              "    </tr>\n",
              "    <tr>\n",
              "      <th>1</th>\n",
              "      <td>launch</td>\n",
              "      <td>1547.721777</td>\n",
              "    </tr>\n",
              "    <tr>\n",
              "      <th>2</th>\n",
              "      <td>orbit</td>\n",
              "      <td>1462.319861</td>\n",
              "    </tr>\n",
              "    <tr>\n",
              "      <th>3</th>\n",
              "      <td>satellit</td>\n",
              "      <td>1331.437948</td>\n",
              "    </tr>\n",
              "    <tr>\n",
              "      <th>4</th>\n",
              "      <td>nasa</td>\n",
              "      <td>1265.015414</td>\n",
              "    </tr>\n",
              "    <tr>\n",
              "      <th>5</th>\n",
              "      <td>system</td>\n",
              "      <td>1091.316205</td>\n",
              "    </tr>\n",
              "    <tr>\n",
              "      <th>6</th>\n",
              "      <td>mission</td>\n",
              "      <td>1075.081325</td>\n",
              "    </tr>\n",
              "    <tr>\n",
              "      <th>7</th>\n",
              "      <td>use</td>\n",
              "      <td>1028.807160</td>\n",
              "    </tr>\n",
              "    <tr>\n",
              "      <th>8</th>\n",
              "      <td>one</td>\n",
              "      <td>990.418234</td>\n",
              "    </tr>\n",
              "    <tr>\n",
              "      <th>9</th>\n",
              "      <td>moon</td>\n",
              "      <td>963.014510</td>\n",
              "    </tr>\n",
              "  </tbody>\n",
              "</table>\n",
              "</div>\n",
              "      <button class=\"colab-df-convert\" onclick=\"convertToInteractive('df-40f3dd70-ee73-47c1-a751-98f583241558')\"\n",
              "              title=\"Convert this dataframe to an interactive table.\"\n",
              "              style=\"display:none;\">\n",
              "        \n",
              "  <svg xmlns=\"http://www.w3.org/2000/svg\" height=\"24px\"viewBox=\"0 0 24 24\"\n",
              "       width=\"24px\">\n",
              "    <path d=\"M0 0h24v24H0V0z\" fill=\"none\"/>\n",
              "    <path d=\"M18.56 5.44l.94 2.06.94-2.06 2.06-.94-2.06-.94-.94-2.06-.94 2.06-2.06.94zm-11 1L8.5 8.5l.94-2.06 2.06-.94-2.06-.94L8.5 2.5l-.94 2.06-2.06.94zm10 10l.94 2.06.94-2.06 2.06-.94-2.06-.94-.94-2.06-.94 2.06-2.06.94z\"/><path d=\"M17.41 7.96l-1.37-1.37c-.4-.4-.92-.59-1.43-.59-.52 0-1.04.2-1.43.59L10.3 9.45l-7.72 7.72c-.78.78-.78 2.05 0 2.83L4 21.41c.39.39.9.59 1.41.59.51 0 1.02-.2 1.41-.59l7.78-7.78 2.81-2.81c.8-.78.8-2.07 0-2.86zM5.41 20L4 18.59l7.72-7.72 1.47 1.35L5.41 20z\"/>\n",
              "  </svg>\n",
              "      </button>\n",
              "      \n",
              "  <style>\n",
              "    .colab-df-container {\n",
              "      display:flex;\n",
              "      flex-wrap:wrap;\n",
              "      gap: 12px;\n",
              "    }\n",
              "\n",
              "    .colab-df-convert {\n",
              "      background-color: #E8F0FE;\n",
              "      border: none;\n",
              "      border-radius: 50%;\n",
              "      cursor: pointer;\n",
              "      display: none;\n",
              "      fill: #1967D2;\n",
              "      height: 32px;\n",
              "      padding: 0 0 0 0;\n",
              "      width: 32px;\n",
              "    }\n",
              "\n",
              "    .colab-df-convert:hover {\n",
              "      background-color: #E2EBFA;\n",
              "      box-shadow: 0px 1px 2px rgba(60, 64, 67, 0.3), 0px 1px 3px 1px rgba(60, 64, 67, 0.15);\n",
              "      fill: #174EA6;\n",
              "    }\n",
              "\n",
              "    [theme=dark] .colab-df-convert {\n",
              "      background-color: #3B4455;\n",
              "      fill: #D2E3FC;\n",
              "    }\n",
              "\n",
              "    [theme=dark] .colab-df-convert:hover {\n",
              "      background-color: #434B5C;\n",
              "      box-shadow: 0px 1px 3px 1px rgba(0, 0, 0, 0.15);\n",
              "      filter: drop-shadow(0px 1px 2px rgba(0, 0, 0, 0.3));\n",
              "      fill: #FFFFFF;\n",
              "    }\n",
              "  </style>\n",
              "\n",
              "      <script>\n",
              "        const buttonEl =\n",
              "          document.querySelector('#df-40f3dd70-ee73-47c1-a751-98f583241558 button.colab-df-convert');\n",
              "        buttonEl.style.display =\n",
              "          google.colab.kernel.accessAllowed ? 'block' : 'none';\n",
              "\n",
              "        async function convertToInteractive(key) {\n",
              "          const element = document.querySelector('#df-40f3dd70-ee73-47c1-a751-98f583241558');\n",
              "          const dataTable =\n",
              "            await google.colab.kernel.invokeFunction('convertToInteractive',\n",
              "                                                     [key], {});\n",
              "          if (!dataTable) return;\n",
              "\n",
              "          const docLinkHtml = 'Like what you see? Visit the ' +\n",
              "            '<a target=\"_blank\" href=https://colab.research.google.com/notebooks/data_table.ipynb>data table notebook</a>'\n",
              "            + ' to learn more about interactive tables.';\n",
              "          element.innerHTML = '';\n",
              "          dataTable['output_type'] = 'display_data';\n",
              "          await google.colab.output.renderOutput(dataTable, element);\n",
              "          const docLink = document.createElement('div');\n",
              "          docLink.innerHTML = docLinkHtml;\n",
              "          element.appendChild(docLink);\n",
              "        }\n",
              "      </script>\n",
              "    </div>\n",
              "  </div>\n",
              "  "
            ]
          },
          "metadata": {},
          "execution_count": 303
        }
      ]
    },
    {
      "cell_type": "markdown",
      "source": [
        "## Most frequent emails"
      ],
      "metadata": {
        "id": "pqS8hNl1Y6UD"
      }
    },
    {
      "cell_type": "code",
      "source": [
        "email_freq = {}\n",
        "for email in emails:\n",
        "  if email_freq.get(email) is None:\n",
        "    email_freq[email] = 0\n",
        "    continue\n",
        "  email_freq[email] = email_freq[email] + 1\n"
      ],
      "metadata": {
        "id": "nRvbjbeCZB7U"
      },
      "execution_count": 312,
      "outputs": []
    },
    {
      "cell_type": "code",
      "source": [
        "sorted_emails = sorted(email_freq.items(), key=lambda kv: -kv[1])\n",
        "dataframe = {}\n",
        "dataframe['Email'] = [pair[0] for pair in sorted_emails][:10]\n",
        "dataframe['Frequency'] = [pair[1] for pair in sorted_emails][:10]\n",
        "email_freq_df = pd.DataFrame(dataframe)\n",
        "email_freq_df"
      ],
      "metadata": {
        "colab": {
          "base_uri": "https://localhost:8080/",
          "height": 363
        },
        "id": "c1xhKhu0Z8wJ",
        "outputId": "dccb8c3e-4703-498e-9a17-74347f1a7cfc"
      },
      "execution_count": 313,
      "outputs": [
        {
          "output_type": "execute_result",
          "data": {
            "text/plain": [
              "                            Email  Frequency\n",
              "0           henry@zoo.toronto.edu         91\n",
              "1            prb@access.digex.com         82\n",
              "2      baalke@kelvin.jpl.nasa.gov         60\n",
              "3         nsmca@aurora.alaska.edu         57\n",
              "4          nsmca@acad3.alaska.edu         32\n",
              "5       jbh55289@uxa.cso.uiuc.edu         31\n",
              "6         sysmgr@king.eng.umd.edu         30\n",
              "7        mccall@mksol.dseg.ti.com         27\n",
              "8                     aws@iti.org         27\n",
              "9  isu@VACATION.VENARI.CS.CMU.EDU         25"
            ],
            "text/html": [
              "\n",
              "  <div id=\"df-24cfe692-ef01-477c-9a22-44dbde72c429\">\n",
              "    <div class=\"colab-df-container\">\n",
              "      <div>\n",
              "<style scoped>\n",
              "    .dataframe tbody tr th:only-of-type {\n",
              "        vertical-align: middle;\n",
              "    }\n",
              "\n",
              "    .dataframe tbody tr th {\n",
              "        vertical-align: top;\n",
              "    }\n",
              "\n",
              "    .dataframe thead th {\n",
              "        text-align: right;\n",
              "    }\n",
              "</style>\n",
              "<table border=\"1\" class=\"dataframe\">\n",
              "  <thead>\n",
              "    <tr style=\"text-align: right;\">\n",
              "      <th></th>\n",
              "      <th>Email</th>\n",
              "      <th>Frequency</th>\n",
              "    </tr>\n",
              "  </thead>\n",
              "  <tbody>\n",
              "    <tr>\n",
              "      <th>0</th>\n",
              "      <td>henry@zoo.toronto.edu</td>\n",
              "      <td>91</td>\n",
              "    </tr>\n",
              "    <tr>\n",
              "      <th>1</th>\n",
              "      <td>prb@access.digex.com</td>\n",
              "      <td>82</td>\n",
              "    </tr>\n",
              "    <tr>\n",
              "      <th>2</th>\n",
              "      <td>baalke@kelvin.jpl.nasa.gov</td>\n",
              "      <td>60</td>\n",
              "    </tr>\n",
              "    <tr>\n",
              "      <th>3</th>\n",
              "      <td>nsmca@aurora.alaska.edu</td>\n",
              "      <td>57</td>\n",
              "    </tr>\n",
              "    <tr>\n",
              "      <th>4</th>\n",
              "      <td>nsmca@acad3.alaska.edu</td>\n",
              "      <td>32</td>\n",
              "    </tr>\n",
              "    <tr>\n",
              "      <th>5</th>\n",
              "      <td>jbh55289@uxa.cso.uiuc.edu</td>\n",
              "      <td>31</td>\n",
              "    </tr>\n",
              "    <tr>\n",
              "      <th>6</th>\n",
              "      <td>sysmgr@king.eng.umd.edu</td>\n",
              "      <td>30</td>\n",
              "    </tr>\n",
              "    <tr>\n",
              "      <th>7</th>\n",
              "      <td>mccall@mksol.dseg.ti.com</td>\n",
              "      <td>27</td>\n",
              "    </tr>\n",
              "    <tr>\n",
              "      <th>8</th>\n",
              "      <td>aws@iti.org</td>\n",
              "      <td>27</td>\n",
              "    </tr>\n",
              "    <tr>\n",
              "      <th>9</th>\n",
              "      <td>isu@VACATION.VENARI.CS.CMU.EDU</td>\n",
              "      <td>25</td>\n",
              "    </tr>\n",
              "  </tbody>\n",
              "</table>\n",
              "</div>\n",
              "      <button class=\"colab-df-convert\" onclick=\"convertToInteractive('df-24cfe692-ef01-477c-9a22-44dbde72c429')\"\n",
              "              title=\"Convert this dataframe to an interactive table.\"\n",
              "              style=\"display:none;\">\n",
              "        \n",
              "  <svg xmlns=\"http://www.w3.org/2000/svg\" height=\"24px\"viewBox=\"0 0 24 24\"\n",
              "       width=\"24px\">\n",
              "    <path d=\"M0 0h24v24H0V0z\" fill=\"none\"/>\n",
              "    <path d=\"M18.56 5.44l.94 2.06.94-2.06 2.06-.94-2.06-.94-.94-2.06-.94 2.06-2.06.94zm-11 1L8.5 8.5l.94-2.06 2.06-.94-2.06-.94L8.5 2.5l-.94 2.06-2.06.94zm10 10l.94 2.06.94-2.06 2.06-.94-2.06-.94-.94-2.06-.94 2.06-2.06.94z\"/><path d=\"M17.41 7.96l-1.37-1.37c-.4-.4-.92-.59-1.43-.59-.52 0-1.04.2-1.43.59L10.3 9.45l-7.72 7.72c-.78.78-.78 2.05 0 2.83L4 21.41c.39.39.9.59 1.41.59.51 0 1.02-.2 1.41-.59l7.78-7.78 2.81-2.81c.8-.78.8-2.07 0-2.86zM5.41 20L4 18.59l7.72-7.72 1.47 1.35L5.41 20z\"/>\n",
              "  </svg>\n",
              "      </button>\n",
              "      \n",
              "  <style>\n",
              "    .colab-df-container {\n",
              "      display:flex;\n",
              "      flex-wrap:wrap;\n",
              "      gap: 12px;\n",
              "    }\n",
              "\n",
              "    .colab-df-convert {\n",
              "      background-color: #E8F0FE;\n",
              "      border: none;\n",
              "      border-radius: 50%;\n",
              "      cursor: pointer;\n",
              "      display: none;\n",
              "      fill: #1967D2;\n",
              "      height: 32px;\n",
              "      padding: 0 0 0 0;\n",
              "      width: 32px;\n",
              "    }\n",
              "\n",
              "    .colab-df-convert:hover {\n",
              "      background-color: #E2EBFA;\n",
              "      box-shadow: 0px 1px 2px rgba(60, 64, 67, 0.3), 0px 1px 3px 1px rgba(60, 64, 67, 0.15);\n",
              "      fill: #174EA6;\n",
              "    }\n",
              "\n",
              "    [theme=dark] .colab-df-convert {\n",
              "      background-color: #3B4455;\n",
              "      fill: #D2E3FC;\n",
              "    }\n",
              "\n",
              "    [theme=dark] .colab-df-convert:hover {\n",
              "      background-color: #434B5C;\n",
              "      box-shadow: 0px 1px 3px 1px rgba(0, 0, 0, 0.15);\n",
              "      filter: drop-shadow(0px 1px 2px rgba(0, 0, 0, 0.3));\n",
              "      fill: #FFFFFF;\n",
              "    }\n",
              "  </style>\n",
              "\n",
              "      <script>\n",
              "        const buttonEl =\n",
              "          document.querySelector('#df-24cfe692-ef01-477c-9a22-44dbde72c429 button.colab-df-convert');\n",
              "        buttonEl.style.display =\n",
              "          google.colab.kernel.accessAllowed ? 'block' : 'none';\n",
              "\n",
              "        async function convertToInteractive(key) {\n",
              "          const element = document.querySelector('#df-24cfe692-ef01-477c-9a22-44dbde72c429');\n",
              "          const dataTable =\n",
              "            await google.colab.kernel.invokeFunction('convertToInteractive',\n",
              "                                                     [key], {});\n",
              "          if (!dataTable) return;\n",
              "\n",
              "          const docLinkHtml = 'Like what you see? Visit the ' +\n",
              "            '<a target=\"_blank\" href=https://colab.research.google.com/notebooks/data_table.ipynb>data table notebook</a>'\n",
              "            + ' to learn more about interactive tables.';\n",
              "          element.innerHTML = '';\n",
              "          dataTable['output_type'] = 'display_data';\n",
              "          await google.colab.output.renderOutput(dataTable, element);\n",
              "          const docLink = document.createElement('div');\n",
              "          docLink.innerHTML = docLinkHtml;\n",
              "          element.appendChild(docLink);\n",
              "        }\n",
              "      </script>\n",
              "    </div>\n",
              "  </div>\n",
              "  "
            ]
          },
          "metadata": {},
          "execution_count": 313
        }
      ]
    }
  ],
  "metadata": {
    "colab": {
      "collapsed_sections": [
        "zpx57mR-Vs1u",
        "1dv6YRfPVh_O",
        "UN4PVEjcn15J",
        "p3R7ozdV2gQC",
        "PdYO_k6sS0eI",
        "kpRgt1Z62pW2",
        "jCy9zpgPXTcf",
        "5EPmO_cROTUK",
        "KpamRULmGY1S"
      ],
      "name": "Text_Processing.ipynb",
      "provenance": []
    },
    "kernelspec": {
      "display_name": "Python 3",
      "name": "python3"
    },
    "language_info": {
      "name": "python"
    }
  },
  "nbformat": 4,
  "nbformat_minor": 0
}